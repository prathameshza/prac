{
  "nbformat": 4,
  "nbformat_minor": 0,
  "metadata": {
    "colab": {
      "provenance": []
    },
    "kernelspec": {
      "name": "python3",
      "display_name": "Python 3"
    },
    "language_info": {
      "name": "python"
    }
  },
  "cells": [
    {
      "cell_type": "markdown",
      "source": [
        "#CL-Codes\n",
        "\n",
        "1 - fuzzy operation\n",
        "\n",
        "2 - spray drying\n",
        "\n",
        "3 - ART dl\n",
        "\n",
        "4 - Artificial immune pattern\n",
        "\n",
        "5 - DEAP\n",
        "\n",
        "6 - Travelling salesman"
      ],
      "metadata": {
        "id": "UijPScih_yFS"
      }
    },
    {
      "cell_type": "markdown",
      "source": [
        "#**A-4**\n",
        "\n",
        "##Implement Union, Intersection, Complement and Difference operations on fuzzy sets. Also create fuzzy relations by Cartesian product of any two fuzzy sets and perform max-min composition on any two fuzzy relations."
      ],
      "metadata": {
        "id": "9Bc9psBX6M5g"
      }
    },
    {
      "cell_type": "code",
      "source": [
        "import numpy as np\n",
        "\n",
        "# Function to perform Union operation on fuzzy sets\n",
        "def fuzzy_union(A, B):\n",
        "    return np.maximum(A, B)\n",
        "\n",
        "# Function to perform Intersection operation on fuzzy sets\n",
        "def fuzzy_intersection(A, B):\n",
        "    return np.minimum(A, B)\n",
        "\n",
        "# Function to perform Complement operation on a fuzzy set\n",
        "def fuzzy_complement(A):\n",
        "    return 1 - A\n",
        "\n",
        "# Function to perform Difference operation on fuzzy sets\n",
        "def fuzzy_difference(A, B):\n",
        "    return np.maximum(A, 1 - B)\n",
        "\n",
        "# Function to create fuzzy relation by Cartesian product of two fuzzy sets\n",
        "def cartesian_product(A, B):\n",
        "    return np.outer(A, B)\n",
        "\n",
        "# Function to perform Max-Min composition on two fuzzy relations\n",
        "def max_min_composition(R, S):\n",
        "    return np.max(np.minimum.outer(R, S), axis=1)\n",
        "\n",
        "# Example usage\n",
        "A = np.array([0.2, 0.4, 0.6, 0.8])  # Fuzzy set A\n",
        "B = np.array([0.3, 0.5, 0.7, 0.9])  # Fuzzy set B\n",
        "\n",
        "# Operations on fuzzy sets\n",
        "union_result = fuzzy_union(A, B)\n",
        "intersection_result = fuzzy_intersection(A, B)\n",
        "complement_A = fuzzy_complement(A)\n",
        "difference_result = fuzzy_difference(A, B)\n",
        "\n",
        "print(\"Union:\", union_result)\n",
        "print(\"Intersection:\", intersection_result)\n",
        "print(\"Complement of A:\", complement_A)\n",
        "print(\"Difference:\", difference_result)\n",
        "\n",
        "# Fuzzy relations\n",
        "R = np.array([0.2, 0.5, 0.4])  # Fuzzy relation R\n",
        "S = np.array([0.6, 0.3, 0.7])  # Fuzzy relation S\n",
        "\n",
        "# Cartesian product of fuzzy relations\n",
        "cartesian_result = cartesian_product(R, S)\n",
        "\n",
        "# Max-Min composition of fuzzy relations\n",
        "composition_result = max_min_composition(R, S)\n",
        "\n",
        "print(\"Cartesian product of R and S:\")\n",
        "print(cartesian_result)\n",
        "\n",
        "print(\"Max-Min composition of R and S:\")\n",
        "print(composition_result)"
      ],
      "metadata": {
        "colab": {
          "base_uri": "https://localhost:8080/"
        },
        "id": "14DDvf3452sW",
        "outputId": "b014a17a-e7a8-4a61-df93-0c0aa2c4aef3"
      },
      "execution_count": null,
      "outputs": [
        {
          "output_type": "stream",
          "name": "stdout",
          "text": [
            "Union: [0.3 0.5 0.7 0.9]\n",
            "Intersection: [0.2 0.4 0.6 0.8]\n",
            "Complement of A: [0.8 0.6 0.4 0.2]\n",
            "Difference: [0.7 0.5 0.6 0.8]\n",
            "Cartesian product of R and S:\n",
            "[[0.12 0.06 0.14]\n",
            " [0.3  0.15 0.35]\n",
            " [0.24 0.12 0.28]]\n",
            "Max-Min composition of R and S:\n",
            "[0.2 0.5 0.4]\n"
          ]
        }
      ]
    },
    {
      "cell_type": "markdown",
      "source": [
        "#**A-6**\n",
        "\n",
        "##1.6 Optimization of genetic algorithm parameter in hybrid genetic algorithm-neural network modelling: Application to spray drying of coconut milk."
      ],
      "metadata": {
        "id": "rCb7lBls1nsY"
      }
    },
    {
      "cell_type": "code",
      "source": [
        "!pip install deap"
      ],
      "metadata": {
        "colab": {
          "base_uri": "https://localhost:8080/"
        },
        "id": "QnAqZ0nF1HDe",
        "outputId": "33a98e5f-2588-4048-9c07-50514cff5b1b"
      },
      "execution_count": null,
      "outputs": [
        {
          "output_type": "stream",
          "name": "stdout",
          "text": [
            "Collecting deap\n",
            "  Downloading deap-1.4.1-cp310-cp310-manylinux_2_5_x86_64.manylinux1_x86_64.manylinux_2_17_x86_64.manylinux2014_x86_64.whl (135 kB)\n",
            "\u001b[?25l     \u001b[90m━━━━━━━━━━━━━━━━━━━━━━━━━━━━━━━━━━━━━━━━\u001b[0m \u001b[32m0.0/135.4 kB\u001b[0m \u001b[31m?\u001b[0m eta \u001b[36m-:--:--\u001b[0m\r\u001b[2K     \u001b[91m━━━━━━━━━━━━━━━━━━━━━\u001b[0m\u001b[90m╺\u001b[0m\u001b[90m━━━━━━━━━━━━━━━━━━\u001b[0m \u001b[32m71.7/135.4 kB\u001b[0m \u001b[31m1.9 MB/s\u001b[0m eta \u001b[36m0:00:01\u001b[0m\r\u001b[2K     \u001b[90m━━━━━━━━━━━━━━━━━━━━━━━━━━━━━━━━━━━━━━━━\u001b[0m \u001b[32m135.4/135.4 kB\u001b[0m \u001b[31m2.1 MB/s\u001b[0m eta \u001b[36m0:00:00\u001b[0m\n",
            "\u001b[?25hRequirement already satisfied: numpy in /usr/local/lib/python3.10/dist-packages (from deap) (1.25.2)\n",
            "Installing collected packages: deap\n",
            "Successfully installed deap-1.4.1\n"
          ]
        }
      ]
    },
    {
      "cell_type": "code",
      "execution_count": null,
      "metadata": {
        "colab": {
          "base_uri": "https://localhost:8080/"
        },
        "id": "GGBH-z540_CJ",
        "outputId": "aa70dbf9-dbe0-4edd-f03c-98f7776baa2c"
      },
      "outputs": [
        {
          "output_type": "stream",
          "name": "stdout",
          "text": [
            "Best Parameters (Neurons per layer, Number of layers): [26, 5]\n"
          ]
        }
      ],
      "source": [
        "import random\n",
        "from deap import base, creator, tools, algorithms\n",
        "\n",
        "# Placeholder evaluation function (replace this with your actual implementation)\n",
        "def evaluate(individual):\n",
        "    # 'individual' represents the parameters for the neural network\n",
        "    # Implement your neural network training and evaluation logic here\n",
        "    # Return a fitness value (e.g., based on prediction accuracy, error, etc.)\n",
        "    # This example returns a random value for demonstration purposes\n",
        "    return random.random(),\n",
        "\n",
        "# Define genetic algorithm parameters\n",
        "POPULATION_SIZE = 10\n",
        "GENERATIONS = 5\n",
        "\n",
        "# Create types for fitness and individuals\n",
        "creator.create(\"FitnessMin\", base.Fitness, weights=(-1.0,))  # Minimize fitness\n",
        "creator.create(\"Individual\", list, fitness=creator.FitnessMin)\n",
        "\n",
        "# Initialize toolbox\n",
        "toolbox = base.Toolbox()\n",
        "\n",
        "# Define attributes and individuals\n",
        "# Adjust these ranges based on your network structure\n",
        "toolbox.register(\"attr_neurons\", random.randint, 10, 100)  # Number of neurons\n",
        "toolbox.register(\"attr_layers\", random.randint, 2, 5)     # Number of layers\n",
        "toolbox.register(\"individual\", tools.initCycle, creator.Individual,\n",
        "                 (toolbox.attr_neurons, toolbox.attr_layers), n=1)\n",
        "toolbox.register(\"population\", tools.initRepeat, list, toolbox.individual)\n",
        "\n",
        "# Genetic operators\n",
        "toolbox.register(\"evaluate\", evaluate)\n",
        "toolbox.register(\"mate\", tools.cxTwoPoint)\n",
        "toolbox.register(\"mutate\", tools.mutUniformInt, low=10, up=100, indpb=0.2)\n",
        "toolbox.register(\"select\", tools.selTournament, tournsize=3)\n",
        "\n",
        "# Create initial population\n",
        "population = toolbox.population(n=POPULATION_SIZE)\n",
        "\n",
        "# Run the genetic algorithm\n",
        "for gen in range(GENERATIONS):\n",
        "    offspring = algorithms.varAnd(population, toolbox, cxpb=0.5, mutpb=0.1)\n",
        "\n",
        "    fitnesses = toolbox.map(toolbox.evaluate, offspring)\n",
        "    for ind, fit in zip(offspring, fitnesses):\n",
        "        ind.fitness.values = fit\n",
        "\n",
        "    population = toolbox.select(offspring, k=len(population))\n",
        "\n",
        "# Get the best individual and parameters\n",
        "best_individual = tools.selBest(population, k=1)[0]\n",
        "best_params = best_individual\n",
        "\n",
        "print(\"Best Parameters (Neurons per layer, Number of layers):\", best_params)"
      ]
    },
    {
      "cell_type": "markdown",
      "source": [
        "#B-1\n",
        "\n",
        "##(2.1)To apply the artificial immune pattern recognition to perform a task of structure damage Classification"
      ],
      "metadata": {
        "id": "0IFVdz8W6g8E"
      }
    },
    {
      "cell_type": "code",
      "source": [
        "import numpy as np\n",
        "\n",
        "# Generate dummy data for demonstration purposes (replace this with your actual data)\n",
        "def generate_dummy_data(samples=100, features=10):\n",
        "    data = np.random.rand(samples, features)\n",
        "    labels = np.random.randint(0, 2, size=samples)\n",
        "    return data, labels\n",
        "\n",
        "# Define the AIRS algorithm\n",
        "class AIRS:\n",
        "    def __init__(self, num_detectors=10, hypermutation_rate=0.1):\n",
        "        self.num_detectors = num_detectors\n",
        "        self.hypermutation_rate = hypermutation_rate\n",
        "\n",
        "    def train(self, X, y):\n",
        "        self.detectors = X[np.random.choice(len(X), self.num_detectors, replace=False)]\n",
        "\n",
        "    def predict(self, X):\n",
        "        predictions = []\n",
        "        for sample in X:\n",
        "            distances = np.linalg.norm(self.detectors - sample, axis=1)\n",
        "            prediction = int(np.argmin(distances))\n",
        "            predictions.append(prediction)\n",
        "        return predictions\n",
        "\n",
        "# Generate dummy data\n",
        "data, labels = generate_dummy_data()\n",
        "\n",
        "# Split data into training and testing sets\n",
        "split_ratio = 0.8\n",
        "split_index = int(split_ratio * len(data))\n",
        "train_data, test_data = data[:split_index], data[split_index:]\n",
        "train_labels, test_labels = labels[:split_index], labels[split_index:]\n",
        "\n",
        "# Initialize and train AIRS\n",
        "airs = AIRS(num_detectors=10, hypermutation_rate=0.1)\n",
        "airs.train(train_data, train_labels)\n",
        "\n",
        "# Test AIRS on the test set\n",
        "predictions = airs.predict(test_data)\n",
        "\n",
        "# Evaluate accuracy\n",
        "accuracy = np.mean(predictions == test_labels)\n",
        "print(f\"Accuracy: {accuracy}\")"
      ],
      "metadata": {
        "colab": {
          "base_uri": "https://localhost:8080/"
        },
        "id": "iIO2m7c964Gp",
        "outputId": "d45144c3-0b88-4f12-f7ce-07a69b010c2f"
      },
      "execution_count": null,
      "outputs": [
        {
          "output_type": "stream",
          "name": "stdout",
          "text": [
            "Accuracy: 0.1\n"
          ]
        }
      ]
    },
    {
      "cell_type": "markdown",
      "source": [
        "#**B-2**\n",
        "\n",
        "##Implement DEAP (Distributed Evolutionary Algorithms) using Python."
      ],
      "metadata": {
        "id": "K98TldhI2JfJ"
      }
    },
    {
      "cell_type": "code",
      "source": [
        "import random\n",
        "from deap import base, creator, tools, algorithms\n",
        "\n",
        "# Define the evaluation function (minimize a simple mathematical function)\n",
        "def eval_func(individual):\n",
        "   # Example evaluation function (minimize a quadratic function)\n",
        "   return sum(x ** 2 for x in individual),\n",
        "\n",
        "# DEAP setup\n",
        "creator.create(\"FitnessMin\", base.Fitness, weights=(-1.0,))  # Minimize fitness\n",
        "creator.create(\"Individual\", list, fitness=creator.FitnessMin)\n",
        "\n",
        "toolbox = base.Toolbox()\n",
        "\n",
        "# Define attributes and individuals\n",
        "toolbox.register(\"attr_float\", random.uniform, -5.0, 5.0)  # Float values between -5 and 5\n",
        "toolbox.register(\"individual\", tools.initRepeat, creator.Individual, toolbox.attr_float, n=3)  # 3-dimensional individual\n",
        "toolbox.register(\"population\", tools.initRepeat, list, toolbox.individual)\n",
        "\n",
        "# Evaluation function and genetic operators\n",
        "toolbox.register(\"evaluate\", eval_func)\n",
        "toolbox.register(\"mate\", tools.cxBlend, alpha=0.5)  # Blend crossover\n",
        "toolbox.register(\"mutate\", tools.mutGaussian, mu=0, sigma=1, indpb=0.2)  # Gaussian mutation\n",
        "toolbox.register(\"select\", tools.selTournament, tournsize=3)  # Tournament selection\n",
        "\n",
        "# Create population\n",
        "population = toolbox.population(n=50)\n",
        "\n",
        "# Genetic Algorithm parameters\n",
        "generations = 20\n",
        "\n",
        "# Run the algorithm\n",
        "for gen in range(generations):\n",
        "    offspring = algorithms.varAnd(population, toolbox, cxpb=0.5, mutpb=0.1)\n",
        "    fits = toolbox.map(toolbox.evaluate, offspring)\n",
        "    for fit, ind in zip(fits, offspring):\n",
        "        ind.fitness.values = fit\n",
        "    population = toolbox.select(offspring, k=len(population))\n",
        "\n",
        "# Get the best individual after generations\n",
        "best_ind = tools.selBest(population, k=1)[0]\n",
        "best_fitness = best_ind.fitness.values[0]\n",
        "\n",
        "print(\"Best individual:\", best_ind)\n",
        "print(\"Best fitness:\", best_fitness)"
      ],
      "metadata": {
        "colab": {
          "base_uri": "https://localhost:8080/"
        },
        "id": "WY9Of1251Kbf",
        "outputId": "7f81ec91-76c0-42e4-93ca-add33984ac7b"
      },
      "execution_count": null,
      "outputs": [
        {
          "output_type": "stream",
          "name": "stdout",
          "text": [
            "Best individual: [0.0018339999007398258, 0.0055442448426363524, 0.005537300263827698]\n",
            "Best fitness: 6.476390072279978e-05\n"
          ]
        },
        {
          "output_type": "stream",
          "name": "stderr",
          "text": [
            "/usr/local/lib/python3.10/dist-packages/deap/creator.py:185: RuntimeWarning: A class named 'FitnessMin' has already been created and it will be overwritten. Consider deleting previous creation of that class or rename it.\n",
            "  warnings.warn(\"A class named '{0}' has already been created and it \"\n",
            "/usr/local/lib/python3.10/dist-packages/deap/creator.py:185: RuntimeWarning: A class named 'Individual' has already been created and it will be overwritten. Consider deleting previous creation of that class or rename it.\n",
            "  warnings.warn(\"A class named '{0}' has already been created and it \"\n"
          ]
        }
      ]
    },
    {
      "cell_type": "markdown",
      "source": [
        "#B-5\n",
        "\n",
        "##(2.5)Implement Ant colony optimization by solving the Traveling salesman problem using python  \n",
        "##Problem statement- A salesman needs to visit a set of cities exactly once and return to the original city. The task is to find the shortest possible route that the salesman can take to visit all the cities and return to the starting city."
      ],
      "metadata": {
        "id": "rI12o9wC-jSX"
      }
    },
    {
      "cell_type": "code",
      "source": [
        "import numpy as np\n",
        "import random\n",
        "\n",
        "# Define the distance matrix (distances between cities)\n",
        "# Replace this with your distance matrix or generate one based on your problem\n",
        "# Example distance matrix (replace this with your actual data)\n",
        "distance_matrix = np.array([\n",
        "    [0, 10, 15, 20],\n",
        "    [10, 0, 35, 25],\n",
        "    [15, 35, 0, 30],\n",
        "    [20, 25, 30, 0]\n",
        "])\n",
        "\n",
        "# Parameters for Ant Colony Optimization\n",
        "num_ants = 10\n",
        "num_iterations = 50\n",
        "evaporation_rate = 0.5\n",
        "pheromone_constant = 1.0\n",
        "heuristic_constant = 1.0\n",
        "\n",
        "# Initialize pheromone matrix and visibility matrix\n",
        "num_cities = len(distance_matrix)\n",
        "pheromone = np.ones((num_cities, num_cities))  # Pheromone matrix # One MATRIX\n",
        "visibility = 1 / distance_matrix  # Visibility matrix (inverse of distance)\n",
        "\n",
        "# ACO algorithm\n",
        "for iteration in range(num_iterations):\n",
        "    ant_routes = []\n",
        "    for ant in range(num_ants):\n",
        "        current_city = random.randint(0, num_cities - 1)\n",
        "        visited_cities = [current_city]\n",
        "        route = [current_city]\n",
        "\n",
        "        while len(visited_cities) < num_cities:\n",
        "            probabilities = []\n",
        "            for city in range(num_cities):\n",
        "                if city not in visited_cities:\n",
        "                    pheromone_value = pheromone[current_city][city]\n",
        "                    visibility_value = visibility[current_city][city]\n",
        "                    probability = (pheromone_value ** pheromone_constant) * (visibility_value ** heuristic_constant)\n",
        "                    probabilities.append((city, probability))\n",
        "\n",
        "            probabilities = sorted(probabilities, key=lambda x: x[1], reverse=True)\n",
        "            selected_city = probabilities[0][0]\n",
        "            route.append(selected_city)\n",
        "            visited_cities.append(selected_city)\n",
        "            current_city = selected_city\n",
        "\n",
        "        ant_routes.append(route)\n",
        "\n",
        "    # Update pheromone levels\n",
        "    delta_pheromone = np.zeros((num_cities, num_cities)) # Zeros\n",
        "    for ant, route in enumerate(ant_routes):\n",
        "        for i in range(len(route) - 1):\n",
        "            city_a = route[i]\n",
        "            city_b = route[i + 1]\n",
        "            delta_pheromone[city_a][city_b] += 1 / distance_matrix[city_a][city_b]\n",
        "            delta_pheromone[city_b][city_a] += 1 / distance_matrix[city_a][city_b]\n",
        "\n",
        "    pheromone = (1 - evaporation_rate) * pheromone + delta_pheromone\n",
        "\n",
        "# Find the best route\n",
        "best_route_index = np.argmax([sum(distance_matrix[cities[i]][cities[(i + 1) % num_cities]] for i in range(num_cities)) for cities in ant_routes])\n",
        "best_route = ant_routes[best_route_index]\n",
        "shortest_distance = sum(distance_matrix[best_route[i]][best_route[(i + 1) % num_cities]] for i in range(num_cities))\n",
        "\n",
        "print(\"Best route:\", best_route)\n",
        "print(\"Shortest distance:\", shortest_distance)"
      ],
      "metadata": {
        "colab": {
          "base_uri": "https://localhost:8080/"
        },
        "id": "CBmkEnth2iYe",
        "outputId": "c5181bc1-c7c9-4c45-b785-ad6022c390e5"
      },
      "execution_count": null,
      "outputs": [
        {
          "output_type": "stream",
          "name": "stdout",
          "text": [
            "Best route: [2, 0, 1, 3]\n",
            "Shortest distance: 80\n"
          ]
        },
        {
          "output_type": "stream",
          "name": "stderr",
          "text": [
            "<ipython-input-7-acc4412c5fd0>:24: RuntimeWarning: divide by zero encountered in divide\n",
            "  visibility = 1 / distance_matrix  # Visibility matrix (inverse of distance)\n"
          ]
        }
      ]
    },
    {
      "cell_type": "code",
      "source": [],
      "metadata": {
        "id": "BPMk3Cf--3-P"
      },
      "execution_count": null,
      "outputs": []
    }
  ]
}